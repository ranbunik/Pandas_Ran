{
  "nbformat": 4,
  "nbformat_minor": 0,
  "metadata": {
    "colab": {
      "name": "Untitled6.ipynb",
      "provenance": []
    },
    "kernelspec": {
      "name": "python3",
      "display_name": "Python 3"
    },
    "language_info": {
      "name": "python"
    }
  },
  "cells": [
    {
      "cell_type": "code",
      "metadata": {
        "colab": {
          "base_uri": "https://localhost:8080/",
          "height": 862
        },
        "id": "FDmG6it2oMeI",
        "outputId": "c6e4dfdd-6424-437e-e024-28a50af2ee2d"
      },
      "source": [
        "import pandas as pd\n",
        "import numpy as np\n",
        "\n",
        "df=pd.read_excel(\"/content/Analysts_Hackathon_June2021_Dataset.xlsx\")\n",
        "df['month'] = df['Date'].dt.month\n",
        "table = df[[\"Regs\",\"month\"]]\n",
        "(table.groupby(by=\"month\", dropna=False).sum()).plot(kind = 'bar')\n",
        "table = df[[\"Regs\",\"Affiliate\",\"month\"]]\n",
        "\n",
        "table = table.pivot_table(values=['Regs'], index=['month', 'Affiliate'],\n",
        "                    aggfunc={'Regs': np.sum,\n",
        "                             'Regs': np.mean})\n",
        "\n"
      ],
      "execution_count": 22,
      "outputs": [
        {
          "output_type": "execute_result",
          "data": {
            "text/plain": [
              "<bound method NDFrame.head of       Regs     Affiliate  month\n",
              "0       37  Affiliate_27      3\n",
              "1        1  Affiliate_31      3\n",
              "2       15  Affiliate_34      3\n",
              "3       38          Rest      3\n",
              "4       76  Affiliate_27      3\n",
              "...    ...           ...    ...\n",
              "8910   523  Affiliate_33      6\n",
              "8911   987  Affiliate_34      6\n",
              "8912   150  Affiliate_35      6\n",
              "8913  8209  Affiliate_36      6\n",
              "8914  2447          Rest      6\n",
              "\n",
              "[8915 rows x 3 columns]>"
            ]
          },
          "metadata": {
            "tags": []
          },
          "execution_count": 22
        },
        {
          "output_type": "display_data",
          "data": {
            "image/png": "[encoded data removed]",
            "text/plain": [
              "<Figure size 432x288 with 1 Axes>"
            ]
          },
          "metadata": {
            "tags": [],
            "needs_background": "light"
          }
        },
        {
          "output_type": "display_data",
          "data": {
            "image/png": "[encoded data removed]",
            "text/plain": [
              "<Figure size 432x288 with 1 Axes>"
            ]
          },
          "metadata": {
            "tags": [],
            "needs_background": "light"
          }
        }
      ]
    },
    {
      "cell_type": "markdown",
      "metadata": {
        "id": "4DJL-bNFI3wz"
      },
      "source": [
        "\n",
        "(table.groupby(by=\"Affiliate\", dropna=False).sum()).plot(kind = 'bar')\n",
        "table.head\n"
      ]
    },
    {
      "cell_type": "markdown",
      "metadata": {
        "id": "frbPr0DfIh9P"
      },
      "source": [
        "df.loc[['Date','month']]\n"
      ]
    },
    {
      "cell_type": "code",
      "metadata": {
        "id": "VttMw3aYEV31"
      },
      "source": [
        "import pandas as pd\n",
        "import numpy as np\n",
        "\n",
        "df=pd.read_excel(\"/content/Analysts_Hackathon_June2021_Dataset.xlsx\")\n",
        "df.info\n",
        "\n",
        "\n",
        "df[\"month\"]= df[\"Date\"].dt.month\n",
        "df[\"month\"]\n",
        "table = pd.pivot_table(df,index=['month'],aggfunc={'Spend':np.sum,'Complete_Tutorial':np.sum})\n",
        "table.plot(kind=\"bar\")\n"
      ],
      "execution_count": null,
      "outputs": []
    },
    {
      "cell_type": "code",
      "metadata": {
        "id": "XCR7TX7_NYDF"
      },
      "source": [
        ""
      ],
      "execution_count": null,
      "outputs": []
    }
  ]
}